{
 "cells": [
  {
   "cell_type": "markdown",
   "id": "8a0e2d37",
   "metadata": {},
   "source": [
    "# Organisation du travail\n",
    "\n",
    "````{admonition} Organisation\n",
    ":class: important\n",
    "__Deux parties :__\n",
    "* Connaître le contexte (cours avec définitions/théorèmes/explications...).\n",
    "    * Apprendre par coeur les définitions/théorèmes/démonstration de cours. _[Parties imprimées](https://raw.githubusercontent.com/pcsi3physiquestan/donnees_exp/main/optique.pdf)_\n",
    "    * Explication (pour comprendre) et complément (pour aller plus loin) _[en ligne](https://pcsi3physiquestan.github.io/optique/notebook/opt_bases.html)._\n",
    "* Maitriser les méthodes :\n",
    "    * __Méthodes :__ Exercices corrigés que j'explique en cours. Méthode de résolution à savoir réappliquer. _Correction en ligne._\n",
    "    * __Activités :__ Exercices à travailler. Ils seront corrigés en classe. __Les conclusions sont à connaître par coeur et à savoir retrouver.__\n",
    "    * __Applications :__ Exercices proches des méthodes et du cours pour s'entrainer. Commencez par eux. _Certains sont en ligne ([auto-correction](http://moodlecpge.stanislas.fr/mod/quiz/view.php?id=114) + [Questions de cours en ligne](http://moodlecpge.stanislas.fr/mod/resource/view.php?id=113))_\n",
    "    * __Entrainement :__ Exercices un peu plus délicats. _Eléments de réponse à ligne._  __L'objectif est d'arriver à traiter les exercices jusqu'à ce niveau.__\n",
    "    * __Approfondissement__ : Seulement si vous avez compris le reste. _En général uniquement [en ligne](http://moodlecpge.stanislas.fr/mod/resource/view.php?id=115)_\n",
    "\n",
    "__En plus du cours :__\n",
    "* S'entrainer au format sujet:\n",
    "    * Les Devoirs Libres. _Correction en ligne._\n",
    "    * Les anciens devoirs surveillés. _Accessibles avec correction en ligne (partie ressource polycopiées)._\n",
    "````\n",
    "\n",
    "## Connaître le contexte : partie imprimée + partie en ligne.\n",
    "* Partie imprimée : Ce qui est à apprendre.\n",
    "````{admonition} Partie à apprendre\n",
    "En ligne, ils ont [cette forme](https://pcsi3physiquestan.github.io/optique/notebook/opt_bases_ondes.html).\n",
    "````\n",
    "* Partie uniquement en ligne : Complément pour _comprendre_ et _approfondir_.\n",
    "````{sidebar} Ceci...\n",
    "donne des compléments et des approfondissements.\n",
    "````\n",
    "````{topic} Ceci...\n",
    "permet de comprendre le cours.\n",
    "````\n",
    "\n",
    "## Maitriser les méthodes\n",
    "* Objectif : aller au minimum jusqu'à l'Entrainement + Devoir Libres.\n",
    "* Quelques éléments de correction et correction des exercices Méthodes sont en ligne.\n",
    "* 70% du travail consiste à s'entrainer sur les exercices et devoirs.\n",
    "* RELISEZ-VOUS Y compris __chez vous__.\n",
    "\n",
    "## Les bonnes pratiques\n",
    "\n",
    "````{important}\n",
    "* Faire ce qui est demandé\n",
    "* On peut ne pas réussir un exercice mais on doit y avoir réfléchi\n",
    "* Planifier: emploi du temps, ne pas négliger une discipline, ne pas attendre le dernier moment\n",
    "* S'aérer\n",
    "* SE RELIRE\n",
    "* Chercher à comprendre ses erreurs\n",
    "* Curiosté ET action\n",
    "* Initiative: quel DL possibles? Exercices possibles?...\n",
    "````\n",
    "\n",
    "````{sidebar} Questions à ne PAS éviter\n",
    "* incompréhension sur le cours (qu'on a lu avant)\n",
    "* incompréhension sur un exercice (à condition d'avoir essayé de le faire/de refaire le calcul qu'on a pas compris ou lors d'une correction).\n",
    "* questions intelligentes\n",
    "* de préférences durant le cours.\n",
    "* possibilité de venir me voir sur mes heures de colle\n",
    "* approfondissement durant le cours, hors sujet après le cours\n",
    "````\n",
    "````{topic} Questions à éviter\n",
    "* sur les coefficients\n",
    "* est-ce que ça compte dans la moyenne?\n",
    "* c'est quoi le programme du ds/colle?\n",
    "* TOUTE QUESTION DONT LE BUT EST DE MOINS TRAVAILLER\n",
    "* sur l'organisation de l'année dont la réponse a déjà été donnée durant cette présentation ou par la suite...\n",
    "````\n",
    "\n",
    "<iframe width=\"560\" height=\"315\" src=\"https://www.youtube.com/embed/RVB3PBPxMWg?si=Wb2k8oZGn1v5wQML\" title=\"YouTube video player\" frameborder=\"0\" allow=\"accelerometer; autoplay; clipboard-write; encrypted-media; gyroscope; picture-in-picture; web-share\" allowfullscreen></iframe>"
   ]
  }
 ],
 "metadata": {
  "jupytext": {
   "encoding": "# -*- coding: utf-8 -*-",
   "formats": "ipynb,md:myst",
   "split_at_heading": true,
   "text_representation": {
    "extension": ".md",
    "format_name": "myst",
    "format_version": 0.13,
    "jupytext_version": "1.10.3"
   }
  },
  "kernelspec": {
   "display_name": "Python 3",
   "language": "python",
   "name": "python3"
  },
  "language_info": {
   "codemirror_mode": {
    "name": "ipython",
    "version": 3
   },
   "file_extension": ".py",
   "mimetype": "text/x-python",
   "name": "python",
   "nbconvert_exporter": "python",
   "pygments_lexer": "ipython3",
   "version": "3.9.15"
  },
  "source_map": [
   15
  ]
 },
 "nbformat": 4,
 "nbformat_minor": 5
}