{
 "cells": [
  {
   "cell_type": "markdown",
   "id": "4211b97f",
   "metadata": {},
   "source": [
    "# Organisation de l'année\n",
    "\n",
    "## Cours et TD\n",
    "````{admonition} Une séance\n",
    ":class: seealso\n",
    "* Un peu de cours et BEAUCOUP d'exercices\n",
    "* Capacités numériques\n",
    "* Travail en autonomie ou petits groupes\n",
    "````\n",
    "\n",
    "## Les TPs\n",
    "````{admonition} Une séance\n",
    ":class: seealso\n",
    "* Tous les 15 jours (1/2 groupes). Par binômes.\n",
    "* _Une étude préliminaire_ : à faire avant le TP. __Rendre l'étude en ligne (scan/photos regroupées) pour avoir une correction.__\n",
    "* _Un travail durant le TP_ : __Privilégier la partie manipulation__ (impossible à faire hors du TP)\n",
    "* _Exploitation_ : Réflexion/Python/Incertitudes\n",
    "* _Compte-rendu_ : à rendre en fin de séance (ou double séance) par écrit.\n",
    "````\n",
    "\n",
    "## Les colles\n",
    "````{admonition} Principe\n",
    ":class: seealso\n",
    "* Passage en trinômes à l'oral (au tableau)\n",
    "* Physique 1 colle tous les 15 j environ\n",
    "* 2h de colles par semaine\n",
    "* Possibles colles jusqu'à 19h30\n",
    "* Programme de colle :  jusqu'à la semaine précédente.\n",
    "````\n",
    "\n",
    "## Devoirs surveillés\n",
    "* Un planning de DS\n",
    "* Pas de programme : tout jusqu'à la semaine précédente. __NE PAS DEMANDER DE PROGRAMME.__"
   ]
  }
 ],
 "metadata": {
  "jupytext": {
   "encoding": "# -*- coding: utf-8 -*-",
   "formats": "ipynb,md:myst",
   "split_at_heading": true,
   "text_representation": {
    "extension": ".md",
    "format_name": "myst",
    "format_version": 0.13,
    "jupytext_version": "1.10.3"
   }
  },
  "kernelspec": {
   "display_name": "Python 3",
   "language": "python",
   "name": "python3"
  },
  "language_info": {
   "codemirror_mode": {
    "name": "ipython",
    "version": 3
   },
   "file_extension": ".py",
   "mimetype": "text/x-python",
   "name": "python",
   "nbconvert_exporter": "python",
   "pygments_lexer": "ipython3",
   "version": "3.9.15"
  },
  "source_map": [
   15
  ]
 },
 "nbformat": 4,
 "nbformat_minor": 5
}