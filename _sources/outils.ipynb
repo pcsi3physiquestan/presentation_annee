{
 "cells": [
  {
   "cell_type": "markdown",
   "id": "f433b32c",
   "metadata": {},
   "source": [
    "# Les outils\n",
    "\n",
    "````{margin}\n",
    "Possible redirection vers adresse perso\n",
    "\n",
    "````\n",
    "````{admonition} Teams\n",
    ":class: note\n",
    "* Normalement peu utile pour la visio\n",
    "* Outlook + adresse __@stanislas-paris.fr__\n",
    "````\n",
    "\n",
    "````{admonition} ENT Moodle\n",
    ":class: danger\n",
    "* Environnement numérique de travail : moodlecpge.stanislas.fr\n",
    "* Compte avec l'adresse __@stanislas-paris.fr__ _ou adresse perso_\n",
    "* Extrêmement important en physique:\n",
    "    * Cours avec éléments d'__explications supplémentaires__\n",
    "    * __Enoncé de TP__\n",
    "    * __Capacités numériques__\n",
    "    * __Corrections de DS/DM__\n",
    "    * Exercices auto-corrigés __proches du cours + Questions de cours__\n",
    "    * Exercices d'__approfondissement__\n",
    "````\n",
    "\n",
    "````{admonition} Python\n",
    ":class: important\n",
    "* A installer sur son ordinateur pour les heures de capacités numériques : Spyder/Pyzo\n",
    "* Présents au labo : [Jupyter notebook](https://pcsi3physiquestan.github.io/jupyter_tuto/jupyter_tuto.html#allure-generale)\n",
    "* france-ioi pendant les vacances + Introduction à travailler en début d'année\n",
    "* __Vendredi 13h00-13h30 :  RDV pour pb d'installation + questions sur Python__ + ENT\n",
    "````\n",
    "\n",
    "````{topic} Autres\n",
    "* Calculatrice : surtout pour les colles. Scientifique utile mais pas obligatoire.\n",
    "* Livres : Pas d'avis mais attention à acheter des livres conformes aux __nouveaux programmes__. Annales utiles mais plus en seconde année ou par thèmes.\n",
    "````"
   ]
  }
 ],
 "metadata": {
  "jupytext": {
   "encoding": "# -*- coding: utf-8 -*-",
   "formats": "ipynb,md:myst",
   "split_at_heading": true,
   "text_representation": {
    "extension": ".md",
    "format_name": "myst",
    "format_version": 0.13,
    "jupytext_version": "1.10.3"
   }
  },
  "kernelspec": {
   "display_name": "Python 3",
   "language": "python",
   "name": "python3"
  },
  "language_info": {
   "codemirror_mode": {
    "name": "ipython",
    "version": 3
   },
   "file_extension": ".py",
   "mimetype": "text/x-python",
   "name": "python",
   "nbconvert_exporter": "python",
   "pygments_lexer": "ipython3",
   "version": "3.9.15"
  },
  "source_map": [
   15
  ]
 },
 "nbformat": 4,
 "nbformat_minor": 5
}