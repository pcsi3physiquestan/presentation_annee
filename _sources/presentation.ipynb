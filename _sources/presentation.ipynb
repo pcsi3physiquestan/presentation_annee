{
 "cells": [
  {
   "cell_type": "markdown",
   "id": "4978ec39",
   "metadata": {},
   "source": [
    "# La prépa, la physique et le reste\n",
    "\n",
    "## Présentation générale\n",
    "\n",
    "```{admonition} Enseignant - Coordonnées\n",
    ":class: tip\n",
    "Cédric Lacpatia (Physique) - cedric.lacpatia@stanislas-paris.fr\n",
    "```\n",
    "\n",
    "````{margin} Groupes de colles\n",
    "Ils seront définis plus tard.\n",
    "\n",
    "````\n",
    "````{admonition} Demi-groupe\n",
    ":class: note\n",
    "* En TP, TD, Anglais...\n",
    "* Fait en math.\n",
    "````\n",
    "\n",
    "\n",
    "````{sidebar} Début d'année\n",
    "* Demain : \n",
    "    * Matin : Ce vendredi SI puis on alternera les semaines suivantes\n",
    "    * Après-midi - RDV à 13h : Inscription ENT + Python. __Amener votre ordinateur.__\n",
    "    * Demain : Cours jusqu'à 16h30/17h\n",
    "* Début des colles : La semaine du 18/09 ou 25/09\n",
    "    * __Ce__ Lundi 11/09 : Pas de TD __mais cours SI (classe entière)__\n",
    "* Vendredi 15 et 22 septembre : Soutien (math pour physique) de 15h30 à 17h30\n",
    "````\n",
    "```{topic} Emploi du temps de physique\n",
    "* Lundi 8h-10h : Classe entière - 206 (cours/méthodes)\n",
    "* Lundi 10h-12h : Demi-groupe - 206 (TD/CN/approfondissement/soutien)\n",
    "    * TDs Physique/SI : Demi-groupe __équilibrés__.\n",
    "* Jeudi 8h-12h : TP Demi-groupe - 4ème étage\n",
    "    * Début des TPs de physique : Jeudi prochain par le groupe A puis alternance par quinzaine\n",
    "* Vendredi 10h-12h : Classe entière - 201 - \\textbf{Une semaine sur deux}\n",
    "* Vendredi 13h30 - 15h30 : Classe entière  (méthodes/cours)\n",
    "* Vendredi 12h30 - 13h30 : Soutien. Vient qui veut. Mieux de m'envoyer des questions avant par mail.\n",
    "```\n",
    "\n",
    "````{admonition} Présentation\n",
    ":class: tip\n",
    "[Lien : https://tinyurl.com/bde79nm9](https://tinyurl.com/bde79nm9)\n",
    "* NOM Prénom\n",
    "* __mail__\n",
    "* Système d'exploitation (Windows/Mac/Linux) + Python installé avec bibliothèques scientifiques (Oui/Non)\n",
    "````\n",
    "\n",
    "````{admonition} Délégué\n",
    ":class: tip\n",
    "* Qui ?\n",
    "* Sinon à élire rapidement pour faire le lien.\n",
    "````"
   ]
  }
 ],
 "metadata": {
  "jupytext": {
   "encoding": "# -*- coding: utf-8 -*-",
   "formats": "ipynb,md:myst",
   "split_at_heading": true,
   "text_representation": {
    "extension": ".md",
    "format_name": "myst",
    "format_version": 0.13,
    "jupytext_version": "1.10.3"
   }
  },
  "kernelspec": {
   "display_name": "Python 3",
   "language": "python",
   "name": "python3"
  },
  "language_info": {
   "codemirror_mode": {
    "name": "ipython",
    "version": 3
   },
   "file_extension": ".py",
   "mimetype": "text/x-python",
   "name": "python",
   "nbconvert_exporter": "python",
   "pygments_lexer": "ipython3",
   "version": "3.9.15"
  },
  "source_map": [
   15
  ]
 },
 "nbformat": 4,
 "nbformat_minor": 5
}